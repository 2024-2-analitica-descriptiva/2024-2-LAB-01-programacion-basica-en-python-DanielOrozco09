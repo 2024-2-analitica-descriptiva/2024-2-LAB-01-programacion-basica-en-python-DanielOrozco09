{
 "cells": [
  {
   "cell_type": "code",
   "execution_count": 3,
   "metadata": {},
   "outputs": [],
   "source": [
    "import pandas as pd"
   ]
  },
  {
   "cell_type": "code",
   "execution_count": 4,
   "metadata": {},
   "outputs": [
    {
     "data": {
      "text/html": [
       "<div>\n",
       "<style scoped>\n",
       "    .dataframe tbody tr th:only-of-type {\n",
       "        vertical-align: middle;\n",
       "    }\n",
       "\n",
       "    .dataframe tbody tr th {\n",
       "        vertical-align: top;\n",
       "    }\n",
       "\n",
       "    .dataframe thead th {\n",
       "        text-align: right;\n",
       "    }\n",
       "</style>\n",
       "<table border=\"1\" class=\"dataframe\">\n",
       "  <thead>\n",
       "    <tr style=\"text-align: right;\">\n",
       "      <th></th>\n",
       "      <th>Letra</th>\n",
       "      <th>Numero</th>\n",
       "      <th>Fecha</th>\n",
       "      <th>Serie</th>\n",
       "      <th>Codigo</th>\n",
       "    </tr>\n",
       "  </thead>\n",
       "  <tbody>\n",
       "    <tr>\n",
       "      <th>0</th>\n",
       "      <td>E</td>\n",
       "      <td>1</td>\n",
       "      <td>1999-02-28</td>\n",
       "      <td>b,g,f</td>\n",
       "      <td>jjj:12,bbb:3,ddd:9,ggg:8,hhh:2</td>\n",
       "    </tr>\n",
       "    <tr>\n",
       "      <th>1</th>\n",
       "      <td>A</td>\n",
       "      <td>2</td>\n",
       "      <td>1999-10-28</td>\n",
       "      <td>a,f,c</td>\n",
       "      <td>ccc:2,ddd:0,aaa:3,hhh:9</td>\n",
       "    </tr>\n",
       "    <tr>\n",
       "      <th>2</th>\n",
       "      <td>B</td>\n",
       "      <td>5</td>\n",
       "      <td>1998-05-02</td>\n",
       "      <td>f,e,a,c</td>\n",
       "      <td>ddd:2,ggg:5,ccc:6,jjj:12</td>\n",
       "    </tr>\n",
       "    <tr>\n",
       "      <th>3</th>\n",
       "      <td>A</td>\n",
       "      <td>3</td>\n",
       "      <td>1999-08-28</td>\n",
       "      <td>a,b</td>\n",
       "      <td>hhh:9,iii:5,eee:7,bbb:1</td>\n",
       "    </tr>\n",
       "    <tr>\n",
       "      <th>4</th>\n",
       "      <td>C</td>\n",
       "      <td>6</td>\n",
       "      <td>1999-12-01</td>\n",
       "      <td>f,g,d,a</td>\n",
       "      <td>iii:6,ddd:5,eee:4,jjj:12</td>\n",
       "    </tr>\n",
       "  </tbody>\n",
       "</table>\n",
       "</div>"
      ],
      "text/plain": [
       "  Letra  Numero       Fecha    Serie                          Codigo\n",
       "0     E       1  1999-02-28    b,g,f  jjj:12,bbb:3,ddd:9,ggg:8,hhh:2\n",
       "1     A       2  1999-10-28    a,f,c         ccc:2,ddd:0,aaa:3,hhh:9\n",
       "2     B       5  1998-05-02  f,e,a,c        ddd:2,ggg:5,ccc:6,jjj:12\n",
       "3     A       3  1999-08-28      a,b         hhh:9,iii:5,eee:7,bbb:1\n",
       "4     C       6  1999-12-01  f,g,d,a        iii:6,ddd:5,eee:4,jjj:12"
      ]
     },
     "execution_count": 4,
     "metadata": {},
     "output_type": "execute_result"
    }
   ],
   "source": [
    "\n",
    "column_names = ['Letra', 'Numero', 'Fecha', 'Serie','Codigo']\n",
    "data = pd.read_csv(\"../files/input/data.csv\",\n",
    "    sep=\"\t\",\n",
    "    names = column_names\n",
    "    # thousands=None,\n",
    "    # decimal=\".\",\n",
    ")\n",
    "data.head()\n"
   ]
  },
  {
   "cell_type": "code",
   "execution_count": 11,
   "metadata": {},
   "outputs": [
    {
     "data": {
      "text/plain": [
       "np.int64(214)"
      ]
     },
     "execution_count": 11,
     "metadata": {},
     "output_type": "execute_result"
    }
   ],
   "source": [
    "suma = data['Numero'].sum()\n",
    "suma"
   ]
  },
  {
   "cell_type": "code",
   "execution_count": 6,
   "metadata": {},
   "outputs": [
    {
     "data": {
      "text/plain": [
       "[('A', 8), ('B', 7), ('C', 5), ('D', 6), ('E', 14)]"
      ]
     },
     "execution_count": 6,
     "metadata": {},
     "output_type": "execute_result"
    }
   ],
   "source": [
    "import csv\n",
    "from collections import Counter\n",
    "\n",
    "# Leer el archivo CSV y contar las ocurrencias de cada letra en la primera columna\n",
    "with open('../files/input/data.csv', 'r') as file:\n",
    "    reader = csv.reader(file, delimiter='\\t')\n",
    "    first_column = [row[0] for row in reader]\n",
    "\n",
    "# Contar las ocurrencias de cada letra\n",
    "counter = Counter(first_column)\n",
    "\n",
    "# Convertir el contador a una lista de tuplas y ordenarla alfabéticamente\n",
    "sorted_counts = sorted(counter.items())\n",
    "\n",
    "sorted_counts"
   ]
  },
  {
   "cell_type": "code",
   "execution_count": 7,
   "metadata": {},
   "outputs": [
    {
     "name": "stdout",
     "output_type": "stream",
     "text": [
      "[('A', 53), ('B', 36), ('C', 27), ('D', 31), ('E', 67)]\n"
     ]
    }
   ],
   "source": [
    "import csv\n",
    "from collections import defaultdict\n",
    "\n",
    "# Crear un diccionario para almacenar la suma de la columna 2 por cada letra de la primera columna\n",
    "sums = defaultdict(int)\n",
    "\n",
    "# Leer el archivo CSV y sumar los valores de la columna 2 por cada letra en la primera columna\n",
    "with open('../files/input/data.csv', 'r') as file:\n",
    "    reader = csv.reader(file, delimiter='\\t')\n",
    "    for row in reader:\n",
    "        letter = row[0]\n",
    "        value = int(row[1])\n",
    "        sums[letter] += value\n",
    "\n",
    "# Convertir el diccionario a una lista de tuplas y ordenarla alfabéticamente\n",
    "sorted_sums = sorted(sums.items())\n",
    "\n",
    "print(sorted_sums)"
   ]
  },
  {
   "cell_type": "code",
   "execution_count": 9,
   "metadata": {},
   "outputs": [
    {
     "name": "stdout",
     "output_type": "stream",
     "text": [
      "[('01', 3), ('02', 4), ('03', 2), ('04', 4), ('05', 3), ('06', 3), ('07', 5), ('08', 6), ('09', 3), ('10', 2), ('11', 2), ('12', 3)]\n"
     ]
    }
   ],
   "source": [
    "import csv\n",
    "from collections import Counter\n",
    "\n",
    "# Crear un contador para almacenar la cantidad de registros por cada mes\n",
    "month_counter = Counter()\n",
    "\n",
    "# Leer el archivo CSV y contar los registros por cada mes en la columna 3\n",
    "with open('../files/input/data.csv', 'r') as file:\n",
    "    reader = csv.reader(file, delimiter='\\t')\n",
    "    for row in reader:\n",
    "        date = row[2]\n",
    "        month = date[5:7]  # Extraer el mes de la fecha en formato YYYY-MM-DD\n",
    "        month_counter[month] += 1\n",
    "\n",
    "# Convertir el contador a una lista de tuplas y ordenarla por mes\n",
    "sorted_month_counts = sorted(month_counter.items())\n",
    "\n",
    "print(sorted_month_counts)"
   ]
  },
  {
   "cell_type": "code",
   "execution_count": 10,
   "metadata": {},
   "outputs": [
    {
     "name": "stdout",
     "output_type": "stream",
     "text": [
      "[('A', 2, 9), ('B', 1, 9), ('C', 0, 9), ('D', 3, 8), ('E', 1, 9)]\n"
     ]
    }
   ],
   "source": [
    "import csv\n",
    "from collections import defaultdict\n",
    "\n",
    "# Crear un diccionario para almacenar el valor máximo y mínimo de la columna 2 por cada letra de la primera columna\n",
    "min_max_values = defaultdict(lambda: [float('inf'), float('-inf')])\n",
    "\n",
    "# Leer el archivo CSV y encontrar los valores máximos y mínimos de la columna 2 por cada letra en la primera columna\n",
    "with open('../files/input/data.csv', 'r') as file:\n",
    "    reader = csv.reader(file, delimiter='\\t')\n",
    "    for row in reader:\n",
    "        letter = row[0]\n",
    "        value = int(row[1])\n",
    "        if value < min_max_values[letter][0]:\n",
    "            min_max_values[letter][0] = value\n",
    "        if value > min_max_values[letter][1]:\n",
    "            min_max_values[letter][1] = value\n",
    "\n",
    "# Convertir el diccionario a una lista de tuplas y ordenarla alfabéticamente\n",
    "sorted_min_max_values = sorted((letter, values[0], values[1]) for letter, values in min_max_values.items())\n",
    "\n",
    "print(sorted_min_max_values)"
   ]
  },
  {
   "cell_type": "code",
   "execution_count": null,
   "metadata": {},
   "outputs": [
    {
     "name": "stdout",
     "output_type": "stream",
     "text": [
      "[('aaa', 1, 9), ('bbb', 1, 9), ('ccc', 1, 10), ('ddd', 0, 9), ('eee', 1, 7), ('fff', 0, 9), ('ggg', 3, 10), ('hhh', 0, 9), ('iii', 0, 9), ('jjj', 5, 17)]\n"
     ]
    }
   ],
   "source": [
    "import csv\n",
    "from collections import defaultdict\n",
    "\n",
    "# Crear un diccionario para almacenar el valor máximo y mínimo por cada clave en la columna 5\n",
    "min_max_dict = defaultdict(lambda: [float('inf'), float('-inf')])\n",
    "\n",
    "# Leer el archivo CSV y procesar los valores de la columna 5\n",
    "with open('../files/input/data.csv', 'r') as file:\n",
    "    reader = csv.reader(file, delimiter='\\t')\n",
    "    for row in reader:\n",
    "        # Obtener los pares clave:valor de la columna 5\n",
    "        key_value_pairs = row[4].split(',')\n",
    "        for pair in key_value_pairs:\n",
    "            key, value = pair.split(':')\n",
    "            value = int(value)\n",
    "            if value < min_max_dict[key][0]:\n",
    "                min_max_dict[key][0] = value\n",
    "            if value > min_max_dict[key][1]:\n",
    "                min_max_dict[key][1] = value\n",
    "\n",
    "# Convertir el diccionario a una lista de tuplas y ordenarla alfabéticamente por clave\n",
    "sorted_min_max_dict = sorted((key, values[0], values[1]) for key, values in min_max_dict.items())\n",
    "\n",
    "return sorted_min_max_dict"
   ]
  },
  {
   "cell_type": "code",
   "execution_count": 12,
   "metadata": {},
   "outputs": [
    {
     "name": "stdout",
     "output_type": "stream",
     "text": [
      "[(0, ['C']), (1, ['E', 'B', 'E']), (2, ['A', 'E']), (3, ['A', 'B', 'D', 'E', 'E', 'D']), (4, ['E', 'B']), (5, ['B', 'C', 'D', 'D', 'E', 'E', 'E']), (6, ['C', 'E', 'A', 'B']), (7, ['A', 'C', 'E', 'D']), (8, ['E', 'D', 'E', 'A', 'B']), (9, ['A', 'B', 'E', 'A', 'A', 'C'])]\n"
     ]
    }
   ],
   "source": [
    "import csv\n",
    "from collections import defaultdict\n",
    "\n",
    "# Crear un diccionario para almacenar las letras asociadas a cada valor de la columna 2\n",
    "value_to_letters = defaultdict(list)\n",
    "\n",
    "# Leer el archivo CSV y asociar las letras a los valores de la columna 2\n",
    "with open('../files/input/data.csv', 'r') as file:\n",
    "    reader = csv.reader(file, delimiter='\\t')\n",
    "    for row in reader:\n",
    "        value = int(row[1])\n",
    "        letter = row[0]\n",
    "        value_to_letters[value].append(letter)\n",
    "\n",
    "# Convertir el diccionario a una lista de tuplas y ordenarla por los valores de la columna 2\n",
    "sorted_value_to_letters = sorted(value_to_letters.items())\n",
    "\n",
    "print(sorted_value_to_letters)"
   ]
  },
  {
   "cell_type": "code",
   "execution_count": 13,
   "metadata": {},
   "outputs": [
    {
     "name": "stdout",
     "output_type": "stream",
     "text": [
      "[(0, ['C']), (1, ['B', 'E']), (2, ['A', 'E']), (3, ['A', 'B', 'D', 'E']), (4, ['B', 'E']), (5, ['B', 'C', 'D', 'E']), (6, ['A', 'B', 'C', 'E']), (7, ['A', 'C', 'D', 'E']), (8, ['A', 'B', 'D', 'E']), (9, ['A', 'B', 'C', 'E'])]\n"
     ]
    }
   ],
   "source": [
    "import csv\n",
    "from collections import defaultdict\n",
    "\n",
    "# Crear un diccionario para almacenar las letras asociadas a cada valor de la columna 2\n",
    "value_to_letters = defaultdict(set)\n",
    "\n",
    "# Leer el archivo CSV y asociar las letras a los valores de la columna 2\n",
    "with open('../files/input/data.csv', 'r') as file:\n",
    "    reader = csv.reader(file, delimiter='\\t')\n",
    "    for row in reader:\n",
    "        value = int(row[1])\n",
    "        letter = row[0]\n",
    "        value_to_letters[value].add(letter)\n",
    "\n",
    "# Convertir el diccionario a una lista de tuplas, ordenar las letras y ordenar por los valores de la columna 2\n",
    "sorted_value_to_letters = sorted((value, sorted(letters)) for value, letters in value_to_letters.items())\n",
    "\n",
    "print(sorted_value_to_letters)"
   ]
  },
  {
   "cell_type": "code",
   "execution_count": 19,
   "metadata": {},
   "outputs": [
    {
     "name": "stdout",
     "output_type": "stream",
     "text": [
      "{'aaa': 13, 'bbb': 16, 'ccc': 23, 'ddd': 23, 'eee': 15, 'fff': 20, 'ggg': 13, 'hhh': 16, 'iii': 18, 'jjj': 18}\n"
     ]
    }
   ],
   "source": [
    "import csv\n",
    "from collections import Counter\n",
    "\n",
    "# Crear un contador para almacenar la cantidad de registros en que aparece cada clave de la columna 5\n",
    "key_counter = Counter()\n",
    "\n",
    "# Leer el archivo CSV y contar las ocurrencias de cada clave en la columna 5\n",
    "with open('../files/input/data.csv', 'r') as file:\n",
    "    reader = csv.reader(file, delimiter='\\t')\n",
    "    for row in reader:\n",
    "        # Obtener los pares clave:valor de la columna 5\n",
    "        key_value_pairs = row[4].split(',')\n",
    "        for pair in key_value_pairs:\n",
    "            key, _ = pair.split(':')\n",
    "            key_counter[key] += 1\n",
    "\n",
    "# Convertir el contador a un diccionario\n",
    "key_count_dict = dict(key_counter)\n",
    "\n",
    "diccionario_ordenado = {clave: key_count_dict[clave] for clave in sorted(key_count_dict)}\n",
    "\n",
    "print(diccionario_ordenado)"
   ]
  },
  {
   "cell_type": "code",
   "execution_count": 15,
   "metadata": {},
   "outputs": [
    {
     "name": "stdout",
     "output_type": "stream",
     "text": [
      "[('E', 3, 5), ('A', 3, 4), ('B', 4, 4), ('A', 2, 4), ('C', 4, 4), ('A', 2, 5), ('A', 3, 6), ('B', 2, 3), ('E', 4, 6), ('B', 4, 6), ('C', 4, 5), ('C', 4, 3), ('D', 4, 5), ('E', 2, 3), ('B', 2, 5), ('D', 2, 4), ('E', 3, 6), ('D', 2, 3), ('E', 4, 3), ('E', 2, 3), ('E', 2, 3), ('E', 3, 3), ('D', 3, 3), ('A', 3, 5), ('E', 2, 6), ('E', 3, 6), ('A', 3, 3), ('E', 3, 5), ('A', 2, 5), ('C', 4, 6), ('A', 2, 5), ('D', 2, 6), ('E', 2, 4), ('B', 3, 6), ('B', 3, 5), ('D', 2, 3), ('B', 2, 5), ('C', 4, 3), ('E', 2, 3), ('E', 3, 3)]\n"
     ]
    }
   ],
   "source": [
    "import csv\n",
    "\n",
    "# Crear una lista para almacenar las tuplas\n",
    "result = []\n",
    "\n",
    "# Leer el archivo CSV y contar la cantidad de elementos en las columnas 4 y 5\n",
    "with open('../files/input/data.csv', 'r') as file:\n",
    "    reader = csv.reader(file, delimiter='\\t')\n",
    "    for row in reader:\n",
    "        letter = row[0]\n",
    "        col4_count = len(row[3].split(','))\n",
    "        col5_count = len(row[4].split(','))\n",
    "        result.append((letter, col4_count, col5_count))\n",
    "\n",
    "print(result)"
   ]
  },
  {
   "cell_type": "code",
   "execution_count": 17,
   "metadata": {},
   "outputs": [
    {
     "name": "stdout",
     "output_type": "stream",
     "text": [
      "{'a': 122, 'b': 49, 'c': 91, 'd': 73, 'e': 86, 'f': 134, 'g': 35}\n"
     ]
    }
   ],
   "source": [
    "import csv\n",
    "from collections import defaultdict\n",
    "\n",
    "# Crear un diccionario para almacenar la suma de la columna 2 para cada letra de la columna 4\n",
    "letter_sums = defaultdict(int)\n",
    "\n",
    "# Leer el archivo CSV y sumar los valores de la columna 2 para cada letra en la columna 4\n",
    "with open('../files/input/data.csv', 'r') as file:\n",
    "    reader = csv.reader(file, delimiter='\\t')\n",
    "    for row in reader:\n",
    "        value = int(row[1])\n",
    "        letters = row[3].split(',')\n",
    "        for letter in letters:\n",
    "            letter_sums[letter] += value\n",
    "\n",
    "# Convertir el diccionario a una lista de tuplas y ordenarla alfabéticamente por clave\n",
    "sorted_letter_sums = dict(sorted(letter_sums.items()))\n",
    "\n",
    "print(sorted_letter_sums)"
   ]
  },
  {
   "cell_type": "code",
   "execution_count": 18,
   "metadata": {},
   "outputs": [
    {
     "name": "stdout",
     "output_type": "stream",
     "text": [
      "{'A': 177, 'B': 187, 'C': 114, 'D': 136, 'E': 324}\n"
     ]
    }
   ],
   "source": [
    "import csv\n",
    "from collections import defaultdict\n",
    "\n",
    "# Crear un diccionario para almacenar la suma de los valores de la columna 5 para cada letra de la columna 1\n",
    "letter_sums = defaultdict(int)\n",
    "\n",
    "# Leer el archivo CSV y sumar los valores de la columna 5 para cada letra en la columna 1\n",
    "with open('../files/input/data.csv', 'r') as file:\n",
    "    reader = csv.reader(file, delimiter='\\t')\n",
    "    for row in reader:\n",
    "        letter = row[0]\n",
    "        key_value_pairs = row[4].split(',')\n",
    "        for pair in key_value_pairs:\n",
    "            _, value = pair.split(':')\n",
    "            letter_sums[letter] += int(value)\n",
    "\n",
    "# Convertir el diccionario a un diccionario ordenado alfabéticamente por clave\n",
    "sorted_letter_sums = dict(sorted(letter_sums.items()))\n",
    "\n",
    "print(sorted_letter_sums)"
   ]
  }
 ],
 "metadata": {
  "kernelspec": {
   "display_name": ".venv",
   "language": "python",
   "name": "python3"
  },
  "language_info": {
   "codemirror_mode": {
    "name": "ipython",
    "version": 3
   },
   "file_extension": ".py",
   "mimetype": "text/x-python",
   "name": "python",
   "nbconvert_exporter": "python",
   "pygments_lexer": "ipython3",
   "version": "3.13.0"
  }
 },
 "nbformat": 4,
 "nbformat_minor": 2
}
